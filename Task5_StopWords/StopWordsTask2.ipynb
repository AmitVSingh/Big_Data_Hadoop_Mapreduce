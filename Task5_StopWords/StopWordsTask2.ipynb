{
 "cells": [
  {
   "cell_type": "markdown",
   "metadata": {
    "colab_type": "text",
    "id": "Xsd0oermS80K"
   },
   "source": [
    "# Hadoop Streaming assignment 2: Stop Words"
   ]
  },
  {
   "cell_type": "markdown",
   "metadata": {
    "colab_type": "text",
    "id": "V_0wfvKjS80L"
   },
   "source": [
    "The purpose of this task is to improve the previous \"Word rating\" program. You have to calculate how many stop words are there in the input dataset. Stop words list is in `/datasets/stop_words_en.txt` file. \n",
    "\n",
    "Use Hadoop counters to compute the number of stop words and total words in the dataset. The result is the percentage of stop words in the entire dataset (without percent symbol).\n",
    "\n",
    "There are several points for this task:\n",
    "\n",
    "1) As an output, you have to get the percentage of stop words in the entire dataset without percent symbol (correct answer on sample dataset is `41.603`).\n",
    "\n",
    "2) As you can see in the Hadoop Streaming userguide \"you will need to use `-files` option to tell the framework to pack your executable files as a part of a job submission.\"\n",
    "\n",
    "3) Do not forget to redirect junk output to `/dev/null`.\n",
    "\n",
    "4) You may modify mappers/reducers from \"Word rating\" task and parse its output to get the answer on \"Stop Words\" task.\n",
    "\n",
    "5) You may use mapper/reducer to get `\"Stop Words\"` and `\"Total Words\"` amounts and redirect them to sys.stderr. After that you may redirect the output of MapReduce to the parsed function. In this function you may find rows correspond to these amounts and compute the percentage.\n",
    "\n",
    "Here you can find the draft for the main steps of the task. You can use other methods to get the solution."
   ]
  },
  {
   "cell_type": "markdown",
   "metadata": {
    "colab_type": "text",
    "id": "EpO7whLNS80M"
   },
   "source": [
    "## Step 1. Create the mapper.\n",
    "\n",
    "<b>Hint:</b> Create the mapper, which calculates Total word and Stop word amounts. You may redirect this information to sys.stderr. This will make it possible to parse these data on the next steps.\n",
    "\n",
    "Example of the redirections:\n",
    "\n",
    "`print >> sys.stderr, \"reporter:counter:Wiki stats,Total words,%d\" % count`\n",
    "\n",
    "Remember about the Distributed cache. If we add option `-files mapper.py,reducer.py,/datasets/stop_words_en.txt`, then `mapper.py, reducer.py` and `stop_words_en.txt` file will be in the same directory on the datanodes. Hence, it is necessary to use a relative path `stop_words_en.txt` from the mapper to access this txt file."
   ]
  },
  {
   "cell_type": "code",
   "execution_count": 30,
   "metadata": {
    "colab": {
     "autoexec": {
      "startup": false,
      "wait_interval": 0
     }
    },
    "colab_type": "code",
    "id": "KU56zkC0S80M"
   },
   "outputs": [
    {
     "name": "stdout",
     "output_type": "stream",
     "text": [
      "Overwriting mapper.py\n"
     ]
    }
   ],
   "source": [
    "%%writefile mapper.py\n",
    "\n",
    "\n",
    "import sys\n",
    "import re\n",
    "\n",
    "\n",
    "reload(sys)\n",
    "sys.setdefaultencoding('utf-8')  # required to convert to unicode\n",
    "\n",
    "path = 'stop_words_en.txt'\n",
    "\n",
    "# Your code for reading stop words here\n",
    "def read_vocab(file_path):\n",
    "    return set(word.strip() for word in open(file_path))\n",
    "\n",
    "vocab = read_vocab(path)\n",
    "\n",
    "\n",
    "for line in sys.stdin:\n",
    "    try:\n",
    "        article_id, text = unicode(line.strip()).split('\\t', 1)\n",
    "    except ValueError as e:\n",
    "        continue\n",
    "\n",
    "    words = re.split(\"\\W*\\s+\\W*\", text, flags=re.UNICODE)\n",
    "\n",
    "    # Your code for mapper here.\n",
    "    for word in words:\n",
    "        if word in vocab:\n",
    "            print >> sys.stderr, \"reporter:counter:Wiki stats,Stop words,%d\" % 1\n",
    "            print \"%s\\t%d\" % (word.lower(), 1)\n",
    "        \n",
    "            print >> sys.stderr, \"reporter:counter:Wiki stats,Total words,%d\" % 1\n",
    "            print \"%s\\t%d\" % (word.lower(), 1)\n",
    "        \n",
    "        else:\n",
    "            print >> sys.stderr, \"reporter:counter:Wiki stats,Total words,%d\" % 1\n",
    "            print \"%s\\t%d\" % (word.lower(), 1)\n",
    "\n",
    "            \n",
    "        \n",
    "        "
   ]
  },
  {
   "cell_type": "code",
   "execution_count": 29,
   "metadata": {},
   "outputs": [
    {
     "name": "stdout",
     "output_type": "stream",
     "text": [
      "cat: stop_words_en.txt: No such file or directory\r\n"
     ]
    }
   ],
   "source": [
    "cat stop_words_en.txt"
   ]
  },
  {
   "cell_type": "markdown",
   "metadata": {
    "colab_type": "text",
    "id": "-3EM-tBES80O"
   },
   "source": [
    "## Step 2. Create the reducer.\n",
    "\n",
    "Create the reducer, which will accumulate the information after the mapper step. You may implement the combiner if you want. It can be useful from optimizing and speed up your computations (see the lectures from the Week 2 for more details)."
   ]
  },
  {
   "cell_type": "code",
   "execution_count": 23,
   "metadata": {
    "colab": {
     "autoexec": {
      "startup": false,
      "wait_interval": 0
     }
    },
    "colab_type": "code",
    "id": "yslvpwpfS80P"
   },
   "outputs": [
    {
     "name": "stdout",
     "output_type": "stream",
     "text": [
      "Overwriting reducer.py\n"
     ]
    }
   ],
   "source": [
    "%%writefile reducer.py\n",
    "\n",
    "from __future__ import print_function\n",
    "import sys\n",
    "\n",
    "current_word = None\n",
    "word_count = 0\n",
    "\n",
    "for line in sys.stdin:\n",
    "    word, counts = line.split(\"\\t\", 1)\n",
    "    counts = int(counts)\n",
    "    if word == current_word:\n",
    "        word_count += counts\n",
    "    else:\n",
    "        if current_word:\n",
    "            print(current_word, word_count, sep = \"\\t\")\n",
    "        current_word = word\n",
    "        word_count = counts\n",
    "    \n",
    "if current_word:\n",
    "    print(current_word, word_count, sep = \"\\t\")"
   ]
  },
  {
   "cell_type": "markdown",
   "metadata": {
    "colab_type": "text",
    "id": "MZQKrDecS80Q"
   },
   "source": [
    "## Step 3. Create the parsed function.\n",
    "\n",
    "<b>Hint:</b> Create the function, which will parse MapReduce sys.stderr for Total word and Stop word amounts.\n",
    "\n",
    "The `./counter_process.py` script should do the following:\n",
    "\n",
    "- parse hadoop logs from Stderr,\n",
    "\n",
    "- retrieve values of 2 user-defined counters,\n",
    "\n",
    "- compute percentage and output it into the stdout."
   ]
  },
  {
   "cell_type": "code",
   "execution_count": 44,
   "metadata": {
    "colab": {
     "autoexec": {
      "startup": false,
      "wait_interval": 0
     }
    },
    "colab_type": "code",
    "id": "XptufhbMS80R"
   },
   "outputs": [
    {
     "name": "stdout",
     "output_type": "stream",
     "text": [
      "Overwriting counter_process.py\n"
     ]
    }
   ],
   "source": [
    "%%writefile counter_process.py\n",
    "\n",
    "#! /usr/bin/env python\n",
    "\n",
    "import sys\n",
    "\n",
    "# Your functions may be here.\n",
    "def bar():\n",
    "    with open('stderr_logs.txt') as f:\n",
    "        for line in f:\n",
    "            if sys.argv[1] in line:\n",
    "                stop_words = line.split(\"=\")[1]\n",
    "                stop_words = int(stop_words)\n",
    "            if sys.argv[2] in line:\n",
    "                total_words = line.split(\"=\")[1]\n",
    "                total_words = int(total_words)\n",
    "                ratio = stop_words/total_words\n",
    "                print(ratio*100)\n",
    "        \n",
    "if __name__ == '__main__':\n",
    "    bar()\n"
   ]
  },
  {
   "cell_type": "markdown",
   "metadata": {
    "colab_type": "text",
    "id": "O_7XrxbKS80S"
   },
   "source": [
    "## Step 4. Bash commands\n",
    "\n",
    "<b> Hints: </b> \n",
    "\n",
    "1) If you want to redirect standard output to txt file you may use the following argument in yarn jar:\n",
    "\n",
    "```\n",
    "yarn ... \\\n",
    "  ... \\\n",
    "  -output ${OUT_DIR} > /dev/null 2> $LOGS\n",
    "```\n",
    "\n",
    "2) For printing the percentage of stop words in the entire dataset you may parse the MapReduce output. Parsed script may be written in Python code. \n",
    "\n",
    "To get the result you may use the UNIX pipe operator `|`. The output of the first command acts as an input to the second command (see lecture file-content-exploration-2 for more details).\n",
    "\n",
    "With this operator you may use command `cat` to redirect the output of MapReduce to ./counter_process.py with arguments, which correspond to the `\"Stop words\"` and `\"Total words\"` counters. Example is the following:\n",
    "\n",
    "`cat $LOGS | python ./counter_process.py \"Stop words\" \"Total words\"`\n",
    "\n",
    "Now something about Hadoop counters naming. \n",
    " - Built-in Hadoop counters usually have UPPER_CASE names. To make the grading system possible to distinguish your custom counters and system ones please use the following pattern for their naming: `[Aa]aaa...` (all except the first letters should be in lowercase);\n",
    " - Another points is how Hadoop sorts the counters. It sorts them lexicographically. Grading system reads your first counter as Stop words counter and the second as Total words. Please name you counters in such way that Hadoop set the Stop words counter before the Total words. \n",
    " \n",
    "E.g. \"Stop words\" and \"Total words\" names are Ok because they correspond both requirements.\n",
    "\n",
    "3) In Python code sys.argv is a list, which contains the command-line arguments passed to the script. The name of the script is in `sys.argv[0]`. Other arguments begin from `sys.argv[1]`.\n",
    "\n",
    "Hence, if you have two arguments, which you send from the Bash to your python script, you may use arguments in your script with the following command:\n",
    "\n",
    "`function(sys.argv[1], sys.argv[2])`\n",
    "\n",
    "4) Do not forget about printing your MapReduce output in the last cell. You may use the next command:\n",
    "\n",
    "`cat $LOGS >&2`"
   ]
  },
  {
   "cell_type": "code",
   "execution_count": 46,
   "metadata": {
    "colab": {
     "autoexec": {
      "startup": false,
      "wait_interval": 0
     }
    },
    "colab_type": "code",
    "id": "bG3omEqzS80S"
   },
   "outputs": [
    {
     "name": "stdout",
     "output_type": "stream",
     "text": [
      "38.44036900909957\n"
     ]
    },
    {
     "name": "stderr",
     "output_type": "stream",
     "text": [
      "rm: `coursera_mr_task21568930306243730': No such file or directory\n",
      "19/09/19 21:58:47 INFO client.RMProxy: Connecting to ResourceManager at /0.0.0.0:8032\n",
      "19/09/19 21:58:50 INFO client.RMProxy: Connecting to ResourceManager at /0.0.0.0:8032\n",
      "19/09/19 21:58:57 INFO mapred.FileInputFormat: Total input files to process : 1\n",
      "19/09/19 21:58:58 INFO mapreduce.JobSubmitter: number of splits:2\n",
      "19/09/19 21:59:00 INFO mapreduce.JobSubmitter: Submitting tokens for job: job_1568922183218_0021\n",
      "19/09/19 21:59:03 INFO impl.YarnClientImpl: Submitted application application_1568922183218_0021\n",
      "19/09/19 21:59:04 INFO mapreduce.Job: The url to track the job: http://3f90f2689422:8088/proxy/application_1568922183218_0021/\n",
      "19/09/19 21:59:04 INFO mapreduce.Job: Running job: job_1568922183218_0021\n",
      "19/09/19 22:09:44 INFO mapreduce.Job: Job job_1568922183218_0021 running in uber mode : false\n",
      "19/09/19 22:09:44 INFO mapreduce.Job:  map 0% reduce 0%\n",
      "19/09/19 22:10:12 INFO mapreduce.Job:  map 1% reduce 0%\n",
      "19/09/19 22:10:19 INFO mapreduce.Job:  map 2% reduce 0%\n",
      "19/09/19 22:10:25 INFO mapreduce.Job:  map 4% reduce 0%\n",
      "19/09/19 22:10:31 INFO mapreduce.Job:  map 5% reduce 0%\n",
      "19/09/19 22:10:37 INFO mapreduce.Job:  map 6% reduce 0%\n",
      "19/09/19 22:10:43 INFO mapreduce.Job:  map 7% reduce 0%\n",
      "19/09/19 22:10:49 INFO mapreduce.Job:  map 8% reduce 0%\n",
      "19/09/19 22:10:56 INFO mapreduce.Job:  map 9% reduce 0%\n",
      "19/09/19 22:11:02 INFO mapreduce.Job:  map 10% reduce 0%\n",
      "19/09/19 22:11:08 INFO mapreduce.Job:  map 11% reduce 0%\n",
      "19/09/19 22:11:13 INFO mapreduce.Job:  map 12% reduce 0%\n",
      "19/09/19 22:11:20 INFO mapreduce.Job:  map 13% reduce 0%\n",
      "19/09/19 22:11:26 INFO mapreduce.Job:  map 14% reduce 0%\n",
      "19/09/19 22:11:31 INFO mapreduce.Job:  map 15% reduce 0%\n",
      "19/09/19 22:11:37 INFO mapreduce.Job:  map 17% reduce 0%\n",
      "19/09/19 22:11:45 INFO mapreduce.Job:  map 18% reduce 0%\n",
      "19/09/19 22:11:50 INFO mapreduce.Job:  map 19% reduce 0%\n",
      "19/09/19 22:11:57 INFO mapreduce.Job:  map 20% reduce 0%\n",
      "19/09/19 22:12:02 INFO mapreduce.Job:  map 21% reduce 0%\n",
      "19/09/19 22:12:08 INFO mapreduce.Job:  map 22% reduce 0%\n",
      "19/09/19 22:12:09 INFO mapreduce.Job:  map 23% reduce 0%\n",
      "19/09/19 22:12:14 INFO mapreduce.Job:  map 24% reduce 0%\n",
      "19/09/19 22:12:20 INFO mapreduce.Job:  map 25% reduce 0%\n",
      "19/09/19 22:12:21 INFO mapreduce.Job:  map 26% reduce 0%\n",
      "19/09/19 22:12:26 INFO mapreduce.Job:  map 28% reduce 0%\n",
      "19/09/19 22:12:32 INFO mapreduce.Job:  map 29% reduce 0%\n",
      "19/09/19 22:12:38 INFO mapreduce.Job:  map 30% reduce 0%\n",
      "19/09/19 22:12:44 INFO mapreduce.Job:  map 31% reduce 0%\n",
      "19/09/19 22:12:51 INFO mapreduce.Job:  map 32% reduce 0%\n",
      "19/09/19 22:12:57 INFO mapreduce.Job:  map 33% reduce 0%\n",
      "19/09/19 22:13:03 INFO mapreduce.Job:  map 35% reduce 0%\n",
      "19/09/19 22:13:09 INFO mapreduce.Job:  map 37% reduce 0%\n",
      "19/09/19 22:13:21 INFO mapreduce.Job:  map 38% reduce 0%\n",
      "19/09/19 22:13:28 INFO mapreduce.Job:  map 39% reduce 0%\n",
      "19/09/19 22:13:34 INFO mapreduce.Job:  map 40% reduce 0%\n",
      "19/09/19 22:13:40 INFO mapreduce.Job:  map 41% reduce 0%\n",
      "19/09/19 22:13:52 INFO mapreduce.Job:  map 43% reduce 0%\n",
      "19/09/19 22:13:58 INFO mapreduce.Job:  map 44% reduce 0%\n",
      "19/09/19 22:14:03 INFO mapreduce.Job:  map 45% reduce 0%\n",
      "19/09/19 22:14:10 INFO mapreduce.Job:  map 46% reduce 0%\n",
      "19/09/19 22:14:16 INFO mapreduce.Job:  map 47% reduce 0%\n",
      "19/09/19 22:14:22 INFO mapreduce.Job:  map 48% reduce 0%\n",
      "19/09/19 22:14:28 INFO mapreduce.Job:  map 49% reduce 0%\n",
      "19/09/19 22:14:35 INFO mapreduce.Job:  map 50% reduce 0%\n",
      "19/09/19 22:14:41 INFO mapreduce.Job:  map 52% reduce 0%\n",
      "19/09/19 22:14:47 INFO mapreduce.Job:  map 53% reduce 0%\n",
      "19/09/19 22:14:53 INFO mapreduce.Job:  map 54% reduce 0%\n",
      "19/09/19 22:14:59 INFO mapreduce.Job:  map 56% reduce 0%\n",
      "19/09/19 22:15:05 INFO mapreduce.Job:  map 57% reduce 0%\n",
      "19/09/19 22:15:11 INFO mapreduce.Job:  map 58% reduce 0%\n",
      "19/09/19 22:15:17 INFO mapreduce.Job:  map 59% reduce 0%\n",
      "19/09/19 22:15:24 INFO mapreduce.Job:  map 60% reduce 0%\n",
      "19/09/19 22:15:29 INFO mapreduce.Job:  map 61% reduce 0%\n",
      "19/09/19 22:15:35 INFO mapreduce.Job:  map 62% reduce 0%\n",
      "19/09/19 22:15:41 INFO mapreduce.Job:  map 63% reduce 0%\n",
      "19/09/19 22:15:47 INFO mapreduce.Job:  map 65% reduce 0%\n",
      "19/09/19 22:15:53 INFO mapreduce.Job:  map 66% reduce 0%\n",
      "19/09/19 22:15:59 INFO mapreduce.Job:  map 68% reduce 0%\n",
      "19/09/19 22:16:05 INFO mapreduce.Job:  map 82% reduce 0%\n",
      "19/09/19 22:16:09 INFO mapreduce.Job:  map 87% reduce 0%\n",
      "19/09/19 22:16:11 INFO mapreduce.Job:  map 100% reduce 0%\n",
      "19/09/19 22:17:04 INFO mapreduce.Job:  map 100% reduce 4%\n",
      "19/09/19 22:17:06 INFO mapreduce.Job:  map 100% reduce 13%\n",
      "19/09/19 22:17:07 INFO mapreduce.Job:  map 100% reduce 17%\n",
      "19/09/19 22:17:08 INFO mapreduce.Job:  map 100% reduce 21%\n",
      "19/09/19 22:17:09 INFO mapreduce.Job:  map 100% reduce 26%\n",
      "19/09/19 22:17:10 INFO mapreduce.Job:  map 100% reduce 30%\n",
      "19/09/19 22:17:12 INFO mapreduce.Job:  map 100% reduce 37%\n",
      "19/09/19 22:17:14 INFO mapreduce.Job:  map 100% reduce 42%\n",
      "19/09/19 22:17:15 INFO mapreduce.Job:  map 100% reduce 46%\n",
      "19/09/19 22:17:16 INFO mapreduce.Job:  map 100% reduce 48%\n",
      "19/09/19 22:17:21 INFO mapreduce.Job:  map 100% reduce 49%\n",
      "19/09/19 22:17:24 INFO mapreduce.Job:  map 100% reduce 51%\n",
      "19/09/19 22:17:32 INFO mapreduce.Job:  map 100% reduce 52%\n",
      "19/09/19 22:17:33 INFO mapreduce.Job:  map 100% reduce 53%\n",
      "19/09/19 22:17:34 INFO mapreduce.Job:  map 100% reduce 54%\n",
      "19/09/19 22:17:39 INFO mapreduce.Job:  map 100% reduce 56%\n",
      "19/09/19 22:17:40 INFO mapreduce.Job:  map 100% reduce 58%\n",
      "19/09/19 22:17:47 INFO mapreduce.Job:  map 100% reduce 63%\n",
      "19/09/19 22:17:49 INFO mapreduce.Job:  map 100% reduce 64%\n",
      "19/09/19 22:17:52 INFO mapreduce.Job:  map 100% reduce 68%\n",
      "19/09/19 22:17:58 INFO mapreduce.Job:  map 100% reduce 70%\n",
      "19/09/19 22:18:04 INFO mapreduce.Job:  map 100% reduce 71%\n",
      "19/09/19 22:18:08 INFO mapreduce.Job:  map 100% reduce 72%\n",
      "19/09/19 22:18:14 INFO mapreduce.Job:  map 100% reduce 73%\n",
      "19/09/19 22:18:20 INFO mapreduce.Job:  map 100% reduce 74%\n",
      "19/09/19 22:18:32 INFO mapreduce.Job:  map 100% reduce 75%\n",
      "19/09/19 22:18:46 INFO mapreduce.Job:  map 100% reduce 93%\n",
      "19/09/19 22:18:52 INFO mapreduce.Job:  map 100% reduce 97%\n",
      "19/09/19 22:18:55 INFO mapreduce.Job:  map 100% reduce 98%\n",
      "19/09/19 22:18:58 INFO mapreduce.Job:  map 100% reduce 99%\n",
      "19/09/19 22:19:01 INFO mapreduce.Job:  map 100% reduce 100%\n",
      "19/09/19 22:19:04 INFO mapreduce.Job: Job job_1568922183218_0021 completed successfully\n",
      "19/09/19 22:19:10 INFO mapreduce.Job: Counters: 52\n",
      "\tFile System Counters\n",
      "\t\tFILE: Number of bytes read=316651652\n",
      "\t\tFILE: Number of bytes written=476245351\n",
      "\t\tFILE: Number of read operations=0\n",
      "\t\tFILE: Number of large read operations=0\n",
      "\t\tFILE: Number of write operations=0\n",
      "\t\tHDFS: Number of bytes read=76874501\n",
      "\t\tHDFS: Number of bytes written=5370601\n",
      "\t\tHDFS: Number of read operations=30\n",
      "\t\tHDFS: Number of large read operations=0\n",
      "\t\tHDFS: Number of write operations=16\n",
      "\tJob Counters \n",
      "\t\tKilled reduce tasks=2\n",
      "\t\tLaunched map tasks=2\n",
      "\t\tLaunched reduce tasks=10\n",
      "\t\tData-local map tasks=2\n",
      "\t\tTotal time spent by all maps in occupied slots (ms)=767044\n",
      "\t\tTotal time spent by all reduces in occupied slots (ms)=859472\n",
      "\t\tTotal time spent by all map tasks (ms)=767044\n",
      "\t\tTotal time spent by all reduce tasks (ms)=859472\n",
      "\t\tTotal vcore-milliseconds taken by all map tasks=767044\n",
      "\t\tTotal vcore-milliseconds taken by all reduce tasks=859472\n",
      "\t\tTotal megabyte-milliseconds taken by all map tasks=785453056\n",
      "\t\tTotal megabyte-milliseconds taken by all reduce tasks=880099328\n",
      "\tMap-Reduce Framework\n",
      "\t\tMap input records=4100\n",
      "\t\tMap output records=16526146\n",
      "\t\tMap output bytes=125229969\n",
      "\t\tMap output materialized bytes=158282367\n",
      "\t\tInput split bytes=228\n",
      "\t\tCombine input records=0\n",
      "\t\tCombine output records=0\n",
      "\t\tReduce input groups=427176\n",
      "\t\tReduce shuffle bytes=158282367\n",
      "\t\tReduce input records=16526146\n",
      "\t\tReduce output records=427175\n",
      "\t\tSpilled Records=49578438\n",
      "\t\tShuffled Maps =16\n",
      "\t\tFailed Shuffles=0\n",
      "\t\tMerged Map outputs=16\n",
      "\t\tGC time elapsed (ms)=44312\n",
      "\t\tCPU time spent (ms)=787420\n",
      "\t\tPhysical memory (bytes) snapshot=1823907840\n",
      "\t\tVirtual memory (bytes) snapshot=19612024832\n",
      "\t\tTotal committed heap usage (bytes)=1126694912\n",
      "\tShuffle Errors\n",
      "\t\tBAD_ID=0\n",
      "\t\tCONNECTION=0\n",
      "\t\tIO_ERROR=0\n",
      "\t\tWRONG_LENGTH=0\n",
      "\t\tWRONG_MAP=0\n",
      "\t\tWRONG_REDUCE=0\n",
      "\tWiki stats\n",
      "\t\tStop words=4588771\n",
      "\t\tTotal words=11937375\n",
      "\tFile Input Format Counters \n",
      "\t\tBytes Read=76874273\n",
      "\tFile Output Format Counters \n",
      "\t\tBytes Written=5370601\n",
      "19/09/19 22:19:10 INFO streaming.StreamJob: Output directory: coursera_mr_task21568930306243730\n"
     ]
    }
   ],
   "source": [
    "%%bash\n",
    "\n",
    "OUT_DIR=\"coursera_mr_task2\"$(date +\"%s%6N\")\n",
    "LOGS=\"stderr_logs.txt\"\n",
    "\n",
    "# Stub code for your job\n",
    "\n",
    "hdfs dfs -rm -r -skipTrash ${OUT_DIR} > /dev/null\n",
    "\n",
    "yarn jar /opt/cloudera/parcels/CDH/lib/hadoop-mapreduce/hadoop-streaming.jar \\\n",
    "    -files mapper.py,reducer.py,/datasets/stop_words_en.txt \\\n",
    "    -mapper \"python mapper.py\" \\\n",
    "    -reducer \"python reducer.py\" \\\n",
    "    -numReduceTasks 8 \\\n",
    "    -input /data/wiki/en_articles_part \\\n",
    "    -output ${OUT_DIR} > /dev/null 2> $LOGS\n",
    "    cat 'stderr_logs.txt' | python counter_process.py \"Stop words\" \"Total words\" \n",
    "    cat $LOGS >&2\n",
    "    \n",
    "\n"
   ]
  },
  {
   "cell_type": "code",
   "execution_count": 43,
   "metadata": {},
   "outputs": [
    {
     "ename": "SyntaxError",
     "evalue": "invalid syntax (<ipython-input-43-2ebd8e1a7c71>, line 1)",
     "output_type": "error",
     "traceback": [
      "\u001b[0;36m  File \u001b[0;32m\"<ipython-input-43-2ebd8e1a7c71>\"\u001b[0;36m, line \u001b[0;32m1\u001b[0m\n\u001b[0;31m    cat 'stderr_logs.txt' | python counter_process.py \"Stop words\" \"Total words\"\u001b[0m\n\u001b[0m                        ^\u001b[0m\n\u001b[0;31mSyntaxError\u001b[0m\u001b[0;31m:\u001b[0m invalid syntax\n"
     ]
    }
   ],
   "source": [
    " cat 'stderr_logs.txt' | python counter_process.py \"Stop words\" \"Total words\" \n",
    "\n"
   ]
  }
 ],
 "metadata": {
  "colab": {
   "collapsed_sections": [],
   "default_view": {},
   "name": "702_to_students.ipynb",
   "provenance": [],
   "version": "0.3.2",
   "views": {}
  },
  "kernelspec": {
   "display_name": "Python 2",
   "language": "python",
   "name": "python2"
  },
  "language_info": {
   "codemirror_mode": {
    "name": "ipython",
    "version": 3
   },
   "file_extension": ".py",
   "mimetype": "text/x-python",
   "name": "python",
   "nbconvert_exporter": "python",
   "pygments_lexer": "ipython3",
   "version": "3.6.2"
  }
 },
 "nbformat": 4,
 "nbformat_minor": 1
}
