{
 "cells": [
  {
   "cell_type": "markdown",
   "metadata": {},
   "source": [
    "## for Fault tolerance checking\n"
   ]
  },
  {
   "cell_type": "code",
   "execution_count": null,
   "metadata": {},
   "outputs": [],
   "source": [
    "\n",
    "%%writefile flaky_mapper.py\n",
    "\n",
    "from random import random\n",
    "import  sys\n",
    "\n",
    "if random() < 0.5:\n",
    "    raise SystemExit(\"I am lucky\")\n",
    "\n",
    "for line in sys.stdin:\n",
    "    pass\n"
   ]
  },
  {
   "cell_type": "code",
   "execution_count": null,
   "metadata": {},
   "outputs": [],
   "source": [
    "!hdfs dfs -ls -h /data/wiki"
   ]
  },
  {
   "cell_type": "code",
   "execution_count": null,
   "metadata": {
    "scrolled": false
   },
   "outputs": [],
   "source": [
    "%%bash\n",
    "\n",
    "\n",
    "# Code for your first job\n",
    "\n",
    "OUT_DIR=\"demo_mapper\"\n",
    "NUM_REDUCERS=0\n",
    "\n",
    "hdfs dfs -rm -r -skipTrash ${OUT_DIR} > /dev/null\n",
    "\n",
    "yarn jar /opt/cloudera/parcels/CDH/lib/hadoop-mapreduce/hadoop-streaming.jar \\\n",
    "    -mapper \"python mapper1.py\" \\\n",
    "    -input /data/test.txt \\\n",
    "    -output ${OUT_DIR} > /dev/null\n",
    "\n"
   ]
  },
  {
   "cell_type": "markdown",
   "metadata": {},
   "source": [
    "## let's count only number of lines in the wiki article\n",
    "\n",
    "### without reducer"
   ]
  },
  {
   "cell_type": "code",
   "execution_count": null,
   "metadata": {},
   "outputs": [],
   "source": [
    "\n",
    "%%bash\n",
    "\n",
    "\n",
    "# Code for your first job\n",
    "\n",
    "OUT_DIR=\"wc_mr\"\n",
    "\n",
    "\n",
    "hdfs dfs -rm -r -skipTrash ${OUT_DIR} > /dev/null\n",
    "\n",
    "yarn jar /opt/cloudera/parcels/CDH/lib/hadoop-mapreduce/hadoop-streaming.jar \\\n",
    "    -mapper \"wc -l\" \\\n",
    "    -numReduceTasks 0 \\\n",
    "    -input /data/wiki/en_articles_part \\\n",
    "    -output ${OUT_DIR} > /dev/null\n"
   ]
  },
  {
   "cell_type": "code",
   "execution_count": null,
   "metadata": {},
   "outputs": [],
   "source": [
    "#!hdfs dfs -ls -h /user/jovyan/wc_mr\n",
    "\n",
    "#!hdfs dfs -cat /user/jovyan/wc_mr/part-00000 \n",
    "\n",
    "!hdfs dfs -text /user/jovyan/wc_mr/*"
   ]
  },
  {
   "cell_type": "markdown",
   "metadata": {},
   "source": [
    "\n",
    "## bash script for reducer\n"
   ]
  },
  {
   "cell_type": "code",
   "execution_count": null,
   "metadata": {},
   "outputs": [],
   "source": [
    "%%writefile reducer.sh\n",
    "\n",
    "#!usr/bin/env bash\n",
    "awk '{line_count += $1} END {print line_count}'\n",
    "\n"
   ]
  },
  {
   "cell_type": "code",
   "execution_count": null,
   "metadata": {},
   "outputs": [],
   "source": [
    "%%bash\n",
    "\n",
    "\n",
    "# Code for your first job\n",
    "\n",
    "OUT_DIR=\"wc_mr_withReducer\"\n",
    "\n",
    "\n",
    "hdfs dfs -rm -r -skipTrash ${OUT_DIR} > /dev/null\n",
    "\n",
    "yarn jar /opt/cloudera/parcels/CDH/lib/hadoop-mapreduce/hadoop-streaming.jar \\\n",
    "    -mapper \"wc -l\" \\\n",
    "    -reducer \"awk '{line_count += \\$1} END {print line_count}'\" \\\n",
    "    -numReduceTasks 1 \\\n",
    "    -input /data/wiki/en_articles_part \\\n",
    "    -output ${OUT_DIR} > /dev/null"
   ]
  },
  {
   "cell_type": "code",
   "execution_count": null,
   "metadata": {},
   "outputs": [],
   "source": [
    "!hdfs dfs -text /user/jovyan/wc_mr_withReducer/*"
   ]
  },
  {
   "cell_type": "markdown",
   "metadata": {},
   "source": [
    "## python streaming for line count"
   ]
  },
  {
   "cell_type": "code",
   "execution_count": null,
   "metadata": {},
   "outputs": [],
   "source": [
    "%%writefile mapper.py\n",
    "\n",
    "from __future__ import print_function\n",
    "\n",
    "import sys\n",
    "\n",
    "line_count = sum(1 for _ in sys.stdin)\n",
    "\n",
    "print(line_count)\n"
   ]
  },
  {
   "cell_type": "code",
   "execution_count": null,
   "metadata": {},
   "outputs": [],
   "source": [
    "%%writefile reducer.py\n",
    "\n",
    "import sys\n",
    "\n",
    "line_count = sum(\n",
    "    int(value) for value in sys.stdin\n",
    ")\n",
    "\n",
    "\n",
    "print(line_count)\n"
   ]
  },
  {
   "cell_type": "code",
   "execution_count": null,
   "metadata": {},
   "outputs": [],
   "source": [
    "%%bash\n",
    "\n",
    "\n",
    "# Code for your first job\n",
    "\n",
    "OUT_DIR=\"Streaming_python_wc_mr_withReducer\"\n",
    "\n",
    "\n",
    "hdfs dfs -rm -r -skipTrash ${OUT_DIR} > /dev/null\n",
    "\n",
    "yarn jar /opt/cloudera/parcels/CDH/lib/hadoop-mapreduce/hadoop-streaming.jar \\\n",
    "    -files mapper.py,reducer.py \\\n",
    "    -mapper \"python mapper.py\" \\\n",
    "    -reducer \"python reducer.py\" \\\n",
    "    -numReduceTasks 1 \\\n",
    "    -input /data/wiki/en_articles_part \\\n",
    "    -output ${OUT_DIR} > /dev/null"
   ]
  },
  {
   "cell_type": "code",
   "execution_count": null,
   "metadata": {},
   "outputs": [],
   "source": [
    "!hdfs dfs -text /user/jovyan/Streaming_python_wc_mr_withReducer/*"
   ]
  },
  {
   "cell_type": "markdown",
   "metadata": {},
   "source": [
    "## Word count "
   ]
  },
  {
   "cell_type": "code",
   "execution_count": null,
   "metadata": {},
   "outputs": [],
   "source": [
    "%%writefile mapper.py\n",
    "\n",
    "from __future__ import print_function\n",
    "import sys\n",
    "import re\n",
    "\n",
    "for line in sys.stdin:\n",
    "    article_id, content = line.split(\"\\t\", 1)\n",
    "    words = re.split(\"\\W+\", content)\n",
    "    for word in words:\n",
    "        print(word, 1, sep=\"\\t\")\n",
    "        "
   ]
  },
  {
   "cell_type": "code",
   "execution_count": null,
   "metadata": {},
   "outputs": [],
   "source": [
    "%%writefile reducer.py\n",
    "\n",
    "from __future__ import print_function\n",
    "import sys\n",
    "\n",
    "current_word = None\n",
    "word_count = 0\n",
    "\n",
    "for line in sys.stdin:\n",
    "    word, counts = line.split(\"\\t\", 1)\n",
    "    counts = int(counts)\n",
    "    if word == current_word:\n",
    "        word_count += counts\n",
    "    else:\n",
    "        if current_word:\n",
    "            print(current_word, word_count, sep = \"\\t\")\n",
    "        current_word = word\n",
    "        word_count = counts\n",
    "    \n",
    "if current_word:\n",
    "    print(current_word, word_count, sep = \"\\t\")"
   ]
  },
  {
   "cell_type": "code",
   "execution_count": null,
   "metadata": {},
   "outputs": [],
   "source": [
    "%%bash\n",
    "\n",
    "\n",
    "# Code for your first job\n",
    "\n",
    "OUT_DIR=\"Streaming_python_wc_mr\"\n",
    "\n",
    "\n",
    "hdfs dfs -rm -r -skipTrash ${OUT_DIR} > /dev/null\n",
    "\n",
    "yarn jar /opt/cloudera/parcels/CDH/lib/hadoop-mapreduce/hadoop-streaming.jar \\\n",
    "    -files mapper.py,reducer.py \\\n",
    "    -mapper \"python mapper.py\" \\\n",
    "    -reducer \"python reducer.py\" \\\n",
    "    -numReduceTasks 1 \\\n",
    "    -input /data/wiki/en_articles_part \\\n",
    "    -output ${OUT_DIR} > /dev/null"
   ]
  },
  {
   "cell_type": "code",
   "execution_count": null,
   "metadata": {},
   "outputs": [],
   "source": [
    "#!hdfs dfs -text /user/jovyan/Streaming_python_wc_mr/* | tail -c 80 \n",
    "\n",
    "#!hdfs dfs -ls -h /user/jovyan/Streaming_python_wc_mr\n",
    "\n",
    "\n",
    "#!hdfs dfs -text /data/test.txt\n",
    "\n",
    "#!hdfs dfs -text /data/wiki/en_articles_part/* | head -c 80\n",
    "\n",
    "#!hdfs dfs -ls -h /data"
   ]
  },
  {
   "cell_type": "markdown",
   "metadata": {},
   "source": [
    "## word count using test file"
   ]
  },
  {
   "cell_type": "code",
   "execution_count": 1,
   "metadata": {},
   "outputs": [
    {
     "name": "stdout",
     "output_type": "stream",
     "text": [
      "Overwriting mapper.py\n"
     ]
    }
   ],
   "source": [
    "%%writefile mapper.py\n",
    "\n",
    "import sys\n",
    "import re\n",
    "\n",
    "reload(sys)\n",
    "sys.setdefaultencoding('utf-8') # required to convert to unicode\n",
    "\n",
    "for line in sys.stdin:\n",
    "    try:\n",
    "        article_id, text = unicode(line.strip()).split('\\t', 1)\n",
    "    except ValueError as e:\n",
    "        continue\n",
    "    words = re.split(\"\\W*\\s+\\W*\", text, flags=re.UNICODE)\n",
    "    for word in words:\n",
    "        print >> sys.stderr, \"reporter:counter:Wiki stats,Total words,%d\" % 1\n",
    "        print \"%s\\t%d\" % (word.lower(), 1)\n"
   ]
  },
  {
   "cell_type": "code",
   "execution_count": 2,
   "metadata": {},
   "outputs": [
    {
     "name": "stdout",
     "output_type": "stream",
     "text": [
      "Overwriting reducer.py\n"
     ]
    }
   ],
   "source": [
    "%%writefile reducer.py\n",
    "\n",
    "from __future__ import print_function\n",
    "import sys\n",
    "\n",
    "current_word = None\n",
    "word_count = 0\n",
    "\n",
    "for line in sys.stdin:\n",
    "    word, counts = line.split(\"\\t\", 1)\n",
    "    counts = int(counts)\n",
    "    if word == current_word:\n",
    "        word_count += counts\n",
    "    else:\n",
    "        if current_word:\n",
    "            print(current_word, word_count, sep = \"\\t\")\n",
    "        current_word = word\n",
    "        word_count = counts\n",
    "    \n",
    "if current_word:\n",
    "    print(current_word, word_count, sep = \"\\t\")"
   ]
  },
  {
   "cell_type": "markdown",
   "metadata": {},
   "source": [
    "## python counter"
   ]
  },
  {
   "cell_type": "code",
   "execution_count": null,
   "metadata": {},
   "outputs": [],
   "source": [
    "%%writefile counter_python.py\n",
    "import sys\n",
    "import re\n",
    "\n",
    "def bar():\n",
    "    with open('stderr_logs.txt') as f:\n",
    "        for line in f:\n",
    "            if sys.argv[1] in line:\n",
    "                line = line.split(\"=\")[1]\n",
    "                print(line)\n",
    "        \n",
    "if __name__ == '__main__':\n",
    "    bar()"
   ]
  },
  {
   "cell_type": "markdown",
   "metadata": {},
   "source": [
    "# write a counter_python.py script to count the total words\n"
   ]
  },
  {
   "cell_type": "code",
   "execution_count": null,
   "metadata": {},
   "outputs": [
    {
     "name": "stdout",
     "output_type": "stream",
     "text": [
      "11937375\n",
      "\n"
     ]
    }
   ],
   "source": [
    "%%bash\n",
    "\n",
    "\n",
    "# Code for your first job\n",
    "\n",
    "OUT_DIR=\"Streaming_python_wc_mr\"\n",
    "LOGS=\"stderr_logs.txt\"\n",
    "\n",
    "hdfs dfs -rm -r -skipTrash ${OUT_DIR} > /dev/null\n",
    "\n",
    "yarn jar /opt/cloudera/parcels/CDH/lib/hadoop-mapreduce/hadoop-streaming.jar \\\n",
    "    -files mapper.py,reducer.py \\\n",
    "    -mapper \"python mapper.py\" \\\n",
    "    -reducer \"python reducer.py\" \\\n",
    "    -numReduceTasks 1 \\\n",
    "    -input /data/wiki/en_articles_part \\\n",
    "    -output ${OUT_DIR} > /dev/null 2> $LOGS\n",
    "    cat 'stderr_logs.txt' | python counter_python.py \"Total words\" \n",
    "    cat $LOGS >&2"
   ]
  },
  {
   "cell_type": "code",
   "execution_count": null,
   "metadata": {},
   "outputs": [],
   "source": [
    "\n",
    "import sys\n",
    "import re\n",
    "\n",
    "\n",
    "#f = sys.stdin\n",
    "# If you need to open a file instead:\n",
    "with open('stderr_logs.txt') as f:\n",
    "    for line in f:\n",
    "        if \"Total words\" in line:\n",
    "            line = line.split(\"=\")[1]\n",
    "            print(line)"
   ]
  },
  {
   "cell_type": "code",
   "execution_count": null,
   "metadata": {},
   "outputs": [],
   "source": [
    "#!hdfs dfs -text /user/jovyan/Streaming_python_wc_mr/* \n",
    "\n",
    "#!hdfs dfs -ls -h /user/jovyan/Streaming_python_wc_mr/part-00000\n",
    "\n",
    "#!hdfs dfs -text /data/test.txt\n",
    "\n",
    "#!hdfs dfs -text /data/wiki/en_articles_part/* | head -c 80\n",
    "\n",
    "#!hdfs dfs -ls -h /data/wiki\n",
    "\n"
   ]
  },
  {
   "cell_type": "markdown",
   "metadata": {},
   "source": []
  },
  {
   "cell_type": "code",
   "execution_count": 16,
   "metadata": {},
   "outputs": [
    {
     "name": "stdout",
     "output_type": "stream",
     "text": [
      "17\n",
      "\n"
     ]
    }
   ],
   "source": [
    "%%bash\n",
    "\n",
    "cat 'stderr_logs.txt' | python counter_python.py \"Total words\" \n"
   ]
  },
  {
   "cell_type": "code",
   "execution_count": 14,
   "metadata": {},
   "outputs": [
    {
     "name": "stdout",
     "output_type": "stream",
     "text": [
      "19/09/19 18:58:05 INFO client.RMProxy: Connecting to ResourceManager at /0.0.0.0:8032\n",
      "\n",
      "19/09/19 18:58:05 INFO client.RMProxy: Connecting to ResourceManager at /0.0.0.0:8032\n",
      "\n",
      "19/09/19 18:58:07 INFO mapred.FileInputFormat: Total input files to process : 1\n",
      "\n",
      "19/09/19 18:58:07 INFO mapreduce.JobSubmitter: number of splits:2\n",
      "\n",
      "19/09/19 18:58:08 INFO mapreduce.JobSubmitter: Submitting tokens for job: job_1568917062479_0002\n",
      "\n",
      "19/09/19 18:58:10 INFO impl.YarnClientImpl: Submitted application application_1568917062479_0002\n",
      "\n",
      "19/09/19 18:58:10 INFO mapreduce.Job: The url to track the job: http://23d8740cdaf7:8088/proxy/application_1568917062479_0002/\n",
      "\n",
      "19/09/19 18:58:10 INFO mapreduce.Job: Running job: job_1568917062479_0002\n",
      "\n",
      "19/09/19 18:58:32 INFO mapreduce.Job: Job job_1568917062479_0002 running in uber mode : false\n",
      "\n",
      "19/09/19 18:58:32 INFO mapreduce.Job:  map 0% reduce 0%\n",
      "\n",
      "19/09/19 18:59:00 INFO mapreduce.Job:  map 100% reduce 0%\n",
      "\n",
      "19/09/19 18:59:19 INFO mapreduce.Job:  map 100% reduce 100%\n",
      "\n",
      "19/09/19 18:59:22 INFO mapreduce.Job: Job job_1568917062479_0002 completed successfully\n",
      "\n",
      "19/09/19 18:59:22 INFO mapreduce.Job: Counters: 50\n",
      "\n",
      "\tFile System Counters\n",
      "\n",
      "\t\tFILE: Number of bytes read=182\n",
      "\n",
      "\t\tFILE: Number of bytes written=418785\n",
      "\n",
      "\t\tFILE: Number of read operations=0\n",
      "\n",
      "\t\tFILE: Number of large read operations=0\n",
      "\n",
      "\t\tFILE: Number of write operations=0\n",
      "\n",
      "\t\tHDFS: Number of bytes read=356\n",
      "\n",
      "\t\tHDFS: Number of bytes written=125\n",
      "\n",
      "\t\tHDFS: Number of read operations=9\n",
      "\n",
      "\t\tHDFS: Number of large read operations=0\n",
      "\n",
      "\t\tHDFS: Number of write operations=2\n",
      "\n",
      "\tJob Counters \n",
      "\n",
      "\t\tLaunched map tasks=2\n",
      "\n",
      "\t\tLaunched reduce tasks=1\n",
      "\n",
      "\t\tData-local map tasks=2\n",
      "\n",
      "\t\tTotal time spent by all maps in occupied slots (ms)=49085\n",
      "\n",
      "\t\tTotal time spent by all reduces in occupied slots (ms)=17143\n",
      "\n",
      "\t\tTotal time spent by all map tasks (ms)=49085\n",
      "\n",
      "\t\tTotal time spent by all reduce tasks (ms)=17143\n",
      "\n",
      "\t\tTotal vcore-milliseconds taken by all map tasks=49085\n",
      "\n",
      "\t\tTotal vcore-milliseconds taken by all reduce tasks=17143\n",
      "\n",
      "\t\tTotal megabyte-milliseconds taken by all map tasks=50263040\n",
      "\n",
      "\t\tTotal megabyte-milliseconds taken by all reduce tasks=17554432\n",
      "\n",
      "\tMap-Reduce Framework\n",
      "\n",
      "\t\tMap input records=2\n",
      "\n",
      "\t\tMap output records=17\n",
      "\n",
      "\t\tMap output bytes=142\n",
      "\n",
      "\t\tMap output materialized bytes=188\n",
      "\n",
      "\t\tInput split bytes=174\n",
      "\n",
      "\t\tCombine input records=0\n",
      "\n",
      "\t\tCombine output records=0\n",
      "\n",
      "\t\tReduce input groups=15\n",
      "\n",
      "\t\tReduce shuffle bytes=188\n",
      "\n",
      "\t\tReduce input records=17\n",
      "\n",
      "\t\tReduce output records=15\n",
      "\n",
      "\t\tSpilled Records=34\n",
      "\n",
      "\t\tShuffled Maps =2\n",
      "\n",
      "\t\tFailed Shuffles=0\n",
      "\n",
      "\t\tMerged Map outputs=2\n",
      "\n",
      "\t\tGC time elapsed (ms)=807\n",
      "\n",
      "\t\tCPU time spent (ms)=4980\n",
      "\n",
      "\t\tPhysical memory (bytes) snapshot=629829632\n",
      "\n",
      "\t\tVirtual memory (bytes) snapshot=5865975808\n",
      "\n",
      "\t\tTotal committed heap usage (bytes)=436207616\n",
      "\n",
      "\tShuffle Errors\n",
      "\n",
      "\t\tBAD_ID=0\n",
      "\n",
      "\t\tCONNECTION=0\n",
      "\n",
      "\t\tIO_ERROR=0\n",
      "\n",
      "\t\tWRONG_LENGTH=0\n",
      "\n",
      "\t\tWRONG_MAP=0\n",
      "\n",
      "\t\tWRONG_REDUCE=0\n",
      "\n",
      "\tWiki stats\n",
      "\n",
      "\t\tTotal words=17\n",
      "\n",
      "\tFile Input Format Counters \n",
      "\n",
      "\t\tBytes Read=182\n",
      "\n",
      "\tFile Output Format Counters \n",
      "\n",
      "\t\tBytes Written=125\n",
      "\n",
      "19/09/19 18:59:22 INFO streaming.StreamJob: Output directory: Streaming_python_wc_mr\n",
      "\n"
     ]
    }
   ],
   "source": [
    "import sys\n",
    "import re\n",
    "\n",
    "\n",
    "#f = sys.stdin\n",
    "# If you need to open a file instead:\n",
    "with open('stderr_logs.txt') as f:\n",
    "    for line in f:\n",
    "            print(line)"
   ]
  },
  {
   "cell_type": "code",
   "execution_count": null,
   "metadata": {},
   "outputs": [],
   "source": [
    "filename = \"test.txt\"\n"
   ]
  },
  {
   "cell_type": "code",
   "execution_count": null,
   "metadata": {},
   "outputs": [],
   "source": [
    "%%bash\n",
    "\n",
    "cat $filename "
   ]
  },
  {
   "cell_type": "code",
   "execution_count": null,
   "metadata": {},
   "outputs": [],
   "source": []
  }
 ],
 "metadata": {
  "kernelspec": {
   "display_name": "Python 2",
   "language": "python",
   "name": "python2"
  },
  "language_info": {
   "codemirror_mode": {
    "name": "ipython",
    "version": 3
   },
   "file_extension": ".py",
   "mimetype": "text/x-python",
   "name": "python",
   "nbconvert_exporter": "python",
   "pygments_lexer": "ipython3",
   "version": "3.6.2"
  }
 },
 "nbformat": 4,
 "nbformat_minor": 2
}
