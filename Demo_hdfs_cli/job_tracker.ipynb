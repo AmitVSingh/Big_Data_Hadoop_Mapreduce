{
 "cells": [
  {
   "cell_type": "markdown",
   "metadata": {},
   "source": [
    "## understand os module of python to get track your job: equivalent of hadoop webUI to monitor job"
   ]
  },
  {
   "cell_type": "code",
   "execution_count": 77,
   "metadata": {},
   "outputs": [
    {
     "name": "stdout",
     "output_type": "stream",
     "text": [
      "Overwriting mapper.py\n"
     ]
    }
   ],
   "source": [
    "%%writefile mapper.py\n",
    "\n",
    "from __future__ import print_function\n",
    "import re\n",
    "import sys\n",
    "import os\n",
    "\n",
    "if os.environ[\"mapred_task_is_map\"] == \"true\":\n",
    "    print(\"input_file:{}, start:{}, size:{}, job_id:{}, order_task:{}\".format(\n",
    "    os.environ[\"mapreduce_map_input_file\"],\n",
    "    os.environ[\"mapreduce_map_input_start\"],\n",
    "    os.environ[\"mapreduce_map_input_length\"],\n",
    "    os.environ[\"mapreduce_task_id\"],\n",
    "    os.environ[\"mapreduce_task_partition\"]\n",
    "    ))\n",
    "    \n",
    "for line in sys.stdin:\n",
    "    pass"
   ]
  },
  {
   "cell_type": "code",
   "execution_count": 78,
   "metadata": {},
   "outputs": [
    {
     "name": "stderr",
     "output_type": "stream",
     "text": [
      "19/09/20 11:20:22 INFO client.RMProxy: Connecting to ResourceManager at /0.0.0.0:8032\n",
      "19/09/20 11:20:23 INFO client.RMProxy: Connecting to ResourceManager at /0.0.0.0:8032\n",
      "19/09/20 11:20:24 INFO mapred.FileInputFormat: Total input files to process : 1\n",
      "19/09/20 11:20:25 INFO mapreduce.JobSubmitter: number of splits:2\n",
      "19/09/20 11:20:25 INFO mapreduce.JobSubmitter: Submitting tokens for job: job_1568965302961_0019\n",
      "19/09/20 11:20:26 INFO impl.YarnClientImpl: Submitted application application_1568965302961_0019\n",
      "19/09/20 11:20:26 INFO mapreduce.Job: The url to track the job: http://96ec9b440a29:8088/proxy/application_1568965302961_0019/\n",
      "19/09/20 11:20:26 INFO mapreduce.Job: Running job: job_1568965302961_0019\n",
      "19/09/20 11:20:39 INFO mapreduce.Job: Job job_1568965302961_0019 running in uber mode : false\n",
      "19/09/20 11:20:39 INFO mapreduce.Job:  map 0% reduce 0%\n",
      "19/09/20 11:20:56 INFO mapreduce.Job:  map 50% reduce 0%\n",
      "19/09/20 11:20:57 INFO mapreduce.Job:  map 100% reduce 0%\n",
      "19/09/20 11:21:15 INFO mapreduce.Job:  map 100% reduce 100%\n",
      "19/09/20 11:21:17 INFO mapreduce.Job: Job job_1568965302961_0019 completed successfully\n",
      "19/09/20 11:21:17 INFO mapreduce.Job: Counters: 50\n",
      "\tFile System Counters\n",
      "\t\tFILE: Number of bytes read=329\n",
      "\t\tFILE: Number of bytes written=416310\n",
      "\t\tFILE: Number of read operations=0\n",
      "\t\tFILE: Number of large read operations=0\n",
      "\t\tFILE: Number of write operations=0\n",
      "\t\tHDFS: Number of bytes read=76874501\n",
      "\t\tHDFS: Number of bytes written=315\n",
      "\t\tHDFS: Number of read operations=9\n",
      "\t\tHDFS: Number of large read operations=0\n",
      "\t\tHDFS: Number of write operations=2\n",
      "\tJob Counters \n",
      "\t\tKilled map tasks=1\n",
      "\t\tLaunched map tasks=2\n",
      "\t\tLaunched reduce tasks=1\n",
      "\t\tData-local map tasks=2\n",
      "\t\tTotal time spent by all maps in occupied slots (ms)=28133\n",
      "\t\tTotal time spent by all reduces in occupied slots (ms)=15885\n",
      "\t\tTotal time spent by all map tasks (ms)=28133\n",
      "\t\tTotal time spent by all reduce tasks (ms)=15885\n",
      "\t\tTotal vcore-milliseconds taken by all map tasks=28133\n",
      "\t\tTotal vcore-milliseconds taken by all reduce tasks=15885\n",
      "\t\tTotal megabyte-milliseconds taken by all map tasks=28808192\n",
      "\t\tTotal megabyte-milliseconds taken by all reduce tasks=16266240\n",
      "\tMap-Reduce Framework\n",
      "\t\tMap input records=4100\n",
      "\t\tMap output records=2\n",
      "\t\tMap output bytes=317\n",
      "\t\tMap output materialized bytes=335\n",
      "\t\tInput split bytes=228\n",
      "\t\tCombine input records=0\n",
      "\t\tCombine output records=0\n",
      "\t\tReduce input groups=2\n",
      "\t\tReduce shuffle bytes=335\n",
      "\t\tReduce input records=2\n",
      "\t\tReduce output records=2\n",
      "\t\tSpilled Records=4\n",
      "\t\tShuffled Maps =2\n",
      "\t\tFailed Shuffles=0\n",
      "\t\tMerged Map outputs=2\n",
      "\t\tGC time elapsed (ms)=319\n",
      "\t\tCPU time spent (ms)=5400\n",
      "\t\tPhysical memory (bytes) snapshot=604127232\n",
      "\t\tVirtual memory (bytes) snapshot=5863301120\n",
      "\t\tTotal committed heap usage (bytes)=390594560\n",
      "\tShuffle Errors\n",
      "\t\tBAD_ID=0\n",
      "\t\tCONNECTION=0\n",
      "\t\tIO_ERROR=0\n",
      "\t\tWRONG_LENGTH=0\n",
      "\t\tWRONG_MAP=0\n",
      "\t\tWRONG_REDUCE=0\n",
      "\tFile Input Format Counters \n",
      "\t\tBytes Read=76874273\n",
      "\tFile Output Format Counters \n",
      "\t\tBytes Written=315\n",
      "19/09/20 11:21:17 INFO streaming.StreamJob: Output directory: enviorn_mapper\n"
     ]
    }
   ],
   "source": [
    "\n",
    "\n",
    "%%bash\n",
    "\n",
    "\n",
    "\n",
    "OUT_DIR=\"enviorn_mapper\"\n",
    "\n",
    "hdfs dfs -rm -r -skipTrash ${OUT_DIR} > /dev/null\n",
    "\n",
    "yarn jar /opt/cloudera/parcels/CDH/lib/hadoop-mapreduce/hadoop-streaming.jar \\\n",
    "    -files mapper.py \\\n",
    "    -mapper \"python mapper.py\" \\\n",
    "    -input /data/wiki/en_articles_part \\\n",
    "    -output ${OUT_DIR} > /dev/null\n",
    "\n"
   ]
  },
  {
   "cell_type": "code",
   "execution_count": 79,
   "metadata": {},
   "outputs": [
    {
     "name": "stdout",
     "output_type": "stream",
     "text": [
      "input_file:hdfs://localhost:9000/data/wiki/en_articles_part/articles-part, start:0, size:38430992, job_id:task_1568965302961_0019_m_000001, order_task:1\t\r\n",
      "input_file:hdfs://localhost:9000/data/wiki/en_articles_part/articles-part, start:38430992, size:38430993, job_id:task_1568965302961_0019_m_000000, order_task:0\t\r\n"
     ]
    }
   ],
   "source": [
    "#!hdfs dfs -ls -h /data\n",
    "\n",
    "#!hdfs dfs -text /data/test.txt\n",
    "\n",
    "!hdfs dfs -text /user/jovyan/enviorn_mapper/part-00000\n"
   ]
  },
  {
   "cell_type": "code",
   "execution_count": 48,
   "metadata": {},
   "outputs": [
    {
     "name": "stdout",
     "output_type": "stream",
     "text": [
      "/home/jovyan\n"
     ]
    }
   ],
   "source": [
    "import os\n",
    "#os.environ[\"HOME\"]\n",
    "CurDir = os.getcwd()\n",
    "print(CurDir)\n",
    "\n",
    "#os.mkdir(\"newDir\")\n",
    "\n",
    "import time\n",
    "\n",
    "time.sleep(2)\n",
    "os.rename('newDir', 'NewDir')\n",
    "\n",
    "time.sleep(2)\n",
    "os.rmdir('NewDir')"
   ]
  },
  {
   "cell_type": "code",
   "execution_count": 63,
   "metadata": {},
   "outputs": [
    {
     "name": "stdout",
     "output_type": "stream",
     "text": [
      "0 apple\n",
      "1 \n",
      "2 banana\n",
      "3 grapes\n",
      "4 pear\n"
     ]
    }
   ],
   "source": [
    "## enumerate\n",
    "\n",
    "my_list = ['apple' ,'banana', 'grapes', 'pear']\n",
    "for c, value in enumerate(my_list):\n",
    "    print(c, value)\n"
   ]
  },
  {
   "cell_type": "markdown",
   "metadata": {},
   "source": [
    "## use hdfs client to get head (10 lines) of the hdfs file  "
   ]
  },
  {
   "cell_type": "code",
   "execution_count": 95,
   "metadata": {},
   "outputs": [
    {
     "name": "stdout",
     "output_type": "stream",
     "text": [
      "Overwriting mapper.py\n"
     ]
    }
   ],
   "source": [
    "%%writefile mapper.py\n",
    "\n",
    "from __future__ import print_function\n",
    "import re\n",
    "import sys\n",
    "import os\n",
    "\n",
    "CHARS_IN_LINE = 9\n",
    "\n",
    "\n",
    "if os.environ[\"mapred_task_is_map\"] == \"true\":\n",
    "    split_input_start = int(\n",
    "        os.environ[\"mapreduce_map_input_start\"]\n",
    "    )//CHARS_IN_LINE\n",
    "    print(\"split_input_start:{}\".format(split_input_start))\n",
    "    \n",
    "for split_line_index, line in enumerate(sys.stdin):\n",
    "    print(\"split_line_index:{}\".format(split_line_index))\n",
    "    line_number = split_line_index + split_input_start\n",
    "    if (line_number < 10):\n",
    "        print(line_number, line, sep = \"\\t\")\n",
    "\n",
    "\n",
    "\n",
    "\n"
   ]
  },
  {
   "cell_type": "code",
   "execution_count": 121,
   "metadata": {
    "scrolled": true
   },
   "outputs": [
    {
     "name": "stdout",
     "output_type": "stream",
     "text": [
      "Process is terminated.\n"
     ]
    }
   ],
   "source": [
    "\n",
    "\n",
    "%%bash\n",
    "\n",
    "\n",
    "\n",
    "OUT_DIR=\"enviorn_head\"\n",
    "\n",
    "hdfs dfs -rm -r -skipTrash ${OUT_DIR} > /dev/null\n",
    "\n",
    "yarn jar /opt/cloudera/parcels/CDH/lib/hadoop-mapreduce/hadoop-streaming.jar \\\n",
    "    -files mapper.py \\\n",
    "    -mapper \"python mapper.py\" \\\n",
    "    -input /data/test.txt \\\n",
    "    -output ${OUT_DIR} > /dev/null\n",
    "\n"
   ]
  },
  {
   "cell_type": "code",
   "execution_count": 94,
   "metadata": {},
   "outputs": [
    {
     "name": "stdout",
     "output_type": "stream",
     "text": [
      "\t\r\n",
      "\t\r\n",
      "\t\r\n",
      "\t\r\n",
      "\t\r\n",
      "\t\r\n",
      "\t\r\n",
      "\t\r\n",
      "\t\r\n",
      "\t\r\n",
      "\t\r\n",
      "\t\r\n",
      "\t\r\n",
      "\t\r\n",
      "\t\r\n",
      "\t\r\n",
      "\t\r\n",
      "\t\r\n",
      "\t\r\n",
      "0\t12\tAnarchism         Anarchism is often defined as a political philosophy which text: Unable to write to output stream.\r\n",
      "1\t\r\n",
      "10\t\r\n",
      "11\t\r\n",
      "12\tHadoop is a file storage system on top of which mapreduce/yarn or spark can be used to process data.\r\n",
      "13\t\r\n",
      "14\t\r\n",
      "15\tBoth programming paradigm has their own pros and cons.\r\n",
      "16\t\r\n",
      "17\t\r\n",
      "18\tMapreduce/yarn is robust and can be scaled to any limit with cheap hardwares but is slow.\r\n",
      "2\t\r\n",
      "3\tI have created this text file for testing puposes.\r\n",
      "4\t\r\n",
      "5\t\r\n",
      "6\tI am enjoying Hadoop Mapreduce to process the big data.\r\n",
      "7\t\r\n",
      "8\t\r\n",
      "9\tHadoop is an open source distributed file storage system.\r\n",
      "split_input_start:0\t\r\n",
      "split_input_start:52\t\r\n",
      "split_line_index:0\t\r\n",
      "split_line_index:0\t\r\n",
      "split_line_index:1\t\r\n",
      "split_line_index:1\t\r\n",
      "split_line_index:10\t\r\n",
      "split_line_index:10\t\r\n",
      "split_line_index:11\t\r\n",
      "split_line_index:11\t\r\n",
      "split_line_index:12\t\r\n",
      "split_line_index:12\t\r\n",
      "split_line_index:13\t\r\n",
      "split_line_index:13\t\r\n",
      "split_line_index:14\t\r\n",
      "split_line_index:15\t\r\n",
      "split_line_index:16\t\r\n",
      "split_line_index:17\t\r\n",
      "split_line_index:18\t\r\n",
      "split_line_index:2\t\r\n",
      "split_line_index:2\t\r\n",
      "split_line_index:3\t\r\n",
      "split_line_index:3\t\r\n",
      "split_line_index:4\t\r\n",
      "split_line_index:4\t\r\n",
      "split_line_index:5\t\r\n",
      "split_line_index:5\t\r\n",
      "split_line_index:6\t\r\n",
      "split_line_index:6\t\r\n",
      "split_line_index:7\t\r\n",
      "split_line_index:7\t\r\n",
      "split_line_index:8\t\r\n",
      "split_line_index:8\t\r\n",
      "split_line_index:9\t\r\n",
      "split_line_index:9\t\r\n"
     ]
    }
   ],
   "source": [
    "!hdfs dfs -text /user/jovyan/enviorn_head/part-00000\n",
    "\n",
    "#!hdfs dfs -text /data/test.txt"
   ]
  },
  {
   "cell_type": "code",
   "execution_count": 110,
   "metadata": {},
   "outputs": [
    {
     "name": "stdout",
     "output_type": "stream",
     "text": [
      "12\tAnarchism         Anarchism is often defined as a political philosophy which text: Unable to write to output stream.\r\n",
      "\r\n",
      "\r\n",
      "\r\n"
     ]
    }
   ],
   "source": [
    "!hdfs dfs -text /data/test.txt"
   ]
  },
  {
   "cell_type": "markdown",
   "metadata": {},
   "source": [
    "## define your own os environ "
   ]
  },
  {
   "cell_type": "code",
   "execution_count": 103,
   "metadata": {},
   "outputs": [
    {
     "name": "stdout",
     "output_type": "stream",
     "text": [
      "Overwriting mapper.py\n"
     ]
    }
   ],
   "source": [
    "%%writefile mapper.py\n",
    "\n",
    "from __future__ import print_function\n",
    "import os\n",
    "import sys\n",
    "import re\n",
    "\n",
    "pattern = re.compile(os.environ[\"word_pattern\"])\n",
    "\n",
    "\n",
    "for line in sys.stdin:\n",
    "    article_id, content = line.split(\"\\t\", 1)\n",
    "    words = re.findall(pattern, content)\n",
    "    for word in words:\n",
    "        print(word, 1, sep = \"\\t\")\n",
    "\n"
   ]
  },
  {
   "cell_type": "code",
   "execution_count": 107,
   "metadata": {},
   "outputs": [
    {
     "name": "stderr",
     "output_type": "stream",
     "text": [
      "JAR does not exist or is not a normal file: /home/jovyan/-D\n"
     ]
    }
   ],
   "source": [
    "\n",
    "\n",
    "%%bash\n",
    "\n",
    "OUT_DIR=\"user_enviorn\"\n",
    "\n",
    "\n",
    "hdfs dfs -rm -r -skipTrash ${OUT_DIR} > /dev/null\n",
    "\n",
    "\n",
    "yarn jar /opt/cloudera/parcels/CDH/lib/hadoop-mapreduce/hadoop-streaming.jar -D word_pattern=\"\\w+\\d+\" \\\n",
    "    -files mapper.py \\\n",
    "    -mapper \"python mapper.py\" \\\n",
    "    -input /data/test.txt \\\n",
    "    -output ${OUT_DIR} > /dev/null\n",
    "\n",
    "\n"
   ]
  },
  {
   "cell_type": "markdown",
   "metadata": {},
   "source": [
    "## job status from command line"
   ]
  },
  {
   "cell_type": "code",
   "execution_count": 129,
   "metadata": {},
   "outputs": [
    {
     "name": "stdout",
     "output_type": "stream",
     "text": [
      "Overwriting mapper.py\n"
     ]
    }
   ],
   "source": [
    "%%writefile mapper.py\n",
    "\n",
    "from __future__ import print_function\n",
    "import os\n",
    "import sys\n",
    "import re\n",
    "\n",
    "\n",
    "\n",
    "for line in sys.stdin:\n",
    "    article_id, content = line.split(\"\\t\", 1)\n",
    "    words = re.findall(\"\\w+\", content)\n",
    "    for index, word in enumerate(words):\n",
    "        print(word, 1, sep = \"\\t\")\n",
    "        print(\"reporter:finalstatus:processed {} words\"\n",
    "             .format(index+1), file=sys.stderr)\n",
    "\n"
   ]
  },
  {
   "cell_type": "code",
   "execution_count": 130,
   "metadata": {},
   "outputs": [
    {
     "name": "stdout",
     "output_type": "stream",
     "text": [
      "Process is terminated.\n"
     ]
    }
   ],
   "source": [
    "\n",
    "\n",
    "%%bash\n",
    "\n",
    "\n",
    "\n",
    "OUT_DIR=\"job_tracker\"\n",
    "\n",
    "hdfs dfs -rm -r -skipTrash ${OUT_DIR} > /dev/null\n",
    "\n",
    "yarn jar /opt/cloudera/parcels/CDH/lib/hadoop-mapreduce/hadoop-streaming.jar \\\n",
    "    -files mapper.py \\\n",
    "    -mapper \"python mapper.py\" \\\n",
    "    -input /data/wiki/en_articles_part \\\n",
    "    -output ${OUT_DIR} > /dev/null\n",
    "\n"
   ]
  },
  {
   "cell_type": "markdown",
   "metadata": {},
   "source": [
    "## kill a yarn application"
   ]
  },
  {
   "cell_type": "code",
   "execution_count": 138,
   "metadata": {},
   "outputs": [
    {
     "name": "stdout",
     "output_type": "stream",
     "text": [
      "19/09/20 16:07:11 INFO client.RMProxy: Connecting to ResourceManager at /0.0.0.0:8032\n",
      "Killing application application_1568965302961_0036\n",
      "19/09/20 16:07:15 INFO impl.YarnClientImpl: Killed application application_1568965302961_0036\n"
     ]
    }
   ],
   "source": [
    "## first list the running application then find application id from there and then run kill operation with that id\n",
    "\n",
    "#!yarn application -list\n",
    "\n",
    "!yarn application -kill application_1568965302961_0036\n",
    "\n"
   ]
  }
 ],
 "metadata": {
  "kernelspec": {
   "display_name": "Python 3",
   "language": "python",
   "name": "python3"
  },
  "language_info": {
   "codemirror_mode": {
    "name": "ipython",
    "version": 3
   },
   "file_extension": ".py",
   "mimetype": "text/x-python",
   "name": "python",
   "nbconvert_exporter": "python",
   "pygments_lexer": "ipython3",
   "version": "3.6.2"
  }
 },
 "nbformat": 4,
 "nbformat_minor": 2
}
